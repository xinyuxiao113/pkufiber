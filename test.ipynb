{
 "cells": [
  {
   "cell_type": "code",
   "execution_count": 2,
   "metadata": {},
   "outputs": [],
   "source": [
    "import pkufiber as pf\n",
    "import yaml \n",
    "import torch \n",
    "from scripts.train_eq import init_model, check_data_config, DataLoader, test_model\n",
    "\n",
    "path = 'experiments/40G_3ch_ampbc_v2'\n",
    "with open(path + '/config.yaml') as f: config = yaml.load(f, Loader=yaml.FullLoader)\n",
    "param_dict = torch.load(path + '/models/60.pth', map_location='cpu')['model_param']\n",
    "\n",
    "model = init_model(config['model_name'], config['model_info'])\n",
    "model.load_state_dict(param_dict) \n",
    "\n",
    "test_path =  \"/gpfs/share/home/2001110035/TorchFiber/dataset/test.h5\" \n",
    "\n",
    "data = pf.data.PbcDataset(path=test_path, Nmodes=2, Nch=3, Rs=40, Pch=-1, \n",
    "                window_size=model.M,  num_symb=100000, truncate=20000)\n",
    "\n",
    "dataloader = DataLoader(data, batch_size=20000, shuffle=False)\n",
    "\n",
    "test_model(model, dataloader, device='cpu')"
   ]
  },
  {
   "cell_type": "code",
   "execution_count": 2,
   "metadata": {},
   "outputs": [
    {
     "data": {
      "text/plain": [
       "{'MSE': 0.02908763475716114,\n",
       " 'SNR': 15.35193654699853,\n",
       " 'BER': 0.0033076002262532713,\n",
       " 'Qsq': 8.677376664408975}"
      ]
     },
     "execution_count": 2,
     "metadata": {},
     "output_type": "execute_result"
    }
   ],
   "source": [
    "id_model = pf.dsp.nonlinear_compensation.nneq.EqID(M=41)\n",
    "test_model(id_model, dataloader, device='cpu')"
   ]
  }
 ],
 "metadata": {
  "kernelspec": {
   "display_name": "fiber",
   "language": "python",
   "name": "python3"
  },
  "language_info": {
   "codemirror_mode": {
    "name": "ipython",
    "version": 3
   },
   "file_extension": ".py",
   "mimetype": "text/x-python",
   "name": "python",
   "nbconvert_exporter": "python",
   "pygments_lexer": "ipython3",
   "version": "3.9.18"
  }
 },
 "nbformat": 4,
 "nbformat_minor": 2
}

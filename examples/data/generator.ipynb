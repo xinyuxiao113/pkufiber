{
 "cells": [
  {
   "cell_type": "code",
   "execution_count": 1,
   "metadata": {},
   "outputs": [
    {
     "name": "stdout",
     "output_type": "stream",
     "text": [
      "Sample rate fa: 5.76e+11, Cut off frequency fc: 1.25e+11, fa > 2fc: True\n",
      " wdm_transmitter complete, time cost(s):0.53316330909729\n",
      " fiber_transmission complete, time cost(s):5.347064971923828\n",
      " wdm_receiver complete, time cost(s):0.09068012237548828\n"
     ]
    }
   ],
   "source": [
    "import torch\n",
    "import pkufiber.simulation as sml\n",
    "\n",
    "device = 'cpu'\n",
    "tx_data, tx_config = sml.wdm_transmitter(123, batch=10, M=16, Nbits=40000, sps=16, Nch=5, Nmodes=1, Rs=36, freqspace=50, Pch_dBm=0, Ai=1, Vpi=2, Vb=-2, Ntaps=4096, roll=0.1, pulse_type='rc', device=device)\n",
    "trans_data, fiber_config = sml.fiber_transmission(tx_data, seed=123, Ltotal=80, Lspan=80, hz=0.5, alpha=0.2, D=16, gamma=1.3, Fc=193.1e12, amp='edfa', NF=4.5, order=1, openPMD=False, Dpmd=3, Lcorr=0.1, device=device)\n",
    "rx_data, rx_config = sml.wdm_receiver(trans_data, seed=123, chid=0, rx_sps=2, FO=0, lw=0, phi_lo=0, Plo_dBm=10, method='frequency cut', device=device)"
   ]
  },
  {
   "cell_type": "code",
   "execution_count": 5,
   "metadata": {},
   "outputs": [
    {
     "data": {
      "text/plain": [
       "{'seed': 123,\n",
       " 'chid': 0,\n",
       " 'rx_sps': 2,\n",
       " 'FO': 0,\n",
       " 'lw': 0,\n",
       " 'phi_lo': 0,\n",
       " 'Plo_dBm': 10,\n",
       " 'method': 'frequency cut'}"
      ]
     },
     "execution_count": 5,
     "metadata": {},
     "output_type": "execute_result"
    }
   ],
   "source": [
    "rx_config"
   ]
  }
 ],
 "metadata": {
  "kernelspec": {
   "display_name": "fiber2024",
   "language": "python",
   "name": "python3"
  },
  "language_info": {
   "codemirror_mode": {
    "name": "ipython",
    "version": 3
   },
   "file_extension": ".py",
   "mimetype": "text/x-python",
   "name": "python",
   "nbconvert_exporter": "python",
   "pygments_lexer": "ipython3",
   "version": "3.9.-1"
  }
 },
 "nbformat": 4,
 "nbformat_minor": 2
}

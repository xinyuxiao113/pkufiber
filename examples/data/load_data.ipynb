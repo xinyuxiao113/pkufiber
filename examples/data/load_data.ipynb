{
 "cells": [
  {
   "cell_type": "code",
   "execution_count": null,
   "metadata": {},
   "outputs": [],
   "source": [
    "import h5py \n",
    "data = h5py.File('/home/xiaoxinyu/dataset/train.h5', 'r')\n",
    "data.visit(print) # type: ignore\n",
    "data.close()"
   ]
  },
  {
   "cell_type": "code",
   "execution_count": 4,
   "metadata": {},
   "outputs": [
    {
     "name": "stdout",
     "output_type": "stream",
     "text": [
      "Warning: not enough data, only 499970 symbols\n",
      "torch.Size([20000, 2]) torch.Size([20000, 2]) torch.Size([4])\n"
     ]
    }
   ],
   "source": [
    "from pkufiber.data.loader import FiberDataset, MixFiberDataset\n",
    "path = '/home/xiaoxinyu/TorchFiber/dataset_A800/train.h5'\n",
    "# path = '/home/xiaoxinyu/dataset/test.h5'\n",
    "data = FiberDataset(path, Nch=11, Rs=80, Pch=0, Nmodes=2,\n",
    "                window_size=20000, strides=1, num_symb=1000000, truncate=0, Tx_window=True, pre_transform='Rx_CDCDDLMS(taps=32,lr=[0.015625, 0.0078125])')\n",
    "\n",
    "Rx,Tx,info = data[0]\n",
    "\n",
    "print(Rx.shape, Tx.shape, info.shape)"
   ]
  },
  {
   "cell_type": "code",
   "execution_count": 5,
   "metadata": {},
   "outputs": [],
   "source": [
    "mixdata = MixFiberDataset(path, Nch_list=[11], Rs_list=[80], Pch_list=[0], Nmodes=2,\n",
    "                window_size=20000, strides=1, num_symb_per_mode=50000, truncate=0, Tx_window=True, pre_transform='Rx_CDCDDLMS(taps=32,lr=[0.015625, 0.0078125])')"
   ]
  }
 ],
 "metadata": {
  "kernelspec": {
   "display_name": "fiber2024",
   "language": "python",
   "name": "python3"
  },
  "language_info": {
   "codemirror_mode": {
    "name": "ipython",
    "version": 3
   },
   "file_extension": ".py",
   "mimetype": "text/x-python",
   "name": "python",
   "nbconvert_exporter": "python",
   "pygments_lexer": "ipython3",
   "version": "3.9.19"
  }
 },
 "nbformat": 4,
 "nbformat_minor": 2
}

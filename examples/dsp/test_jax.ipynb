{
 "cells": [
  {
   "cell_type": "code",
   "execution_count": 6,
   "metadata": {},
   "outputs": [
    {
     "data": {
      "text/plain": [
       "Mesh(device_ids=array([0]), axis_names=('x',))"
      ]
     },
     "execution_count": 6,
     "metadata": {},
     "output_type": "execute_result"
    }
   ],
   "source": [
    "import jax\n",
    "from jax import jit\n",
    "from jax.sharding import Mesh\n",
    "from functools import partial\n",
    "\n",
    "# 假设使用 CPU 设备\n",
    "devices = jax.devices(\"cpu\")\n",
    "mesh = Mesh(devices, ('x',))\n"
   ]
  }
 ],
 "metadata": {
  "kernelspec": {
   "display_name": "fiber2024",
   "language": "python",
   "name": "python3"
  },
  "language_info": {
   "codemirror_mode": {
    "name": "ipython",
    "version": 3
   },
   "file_extension": ".py",
   "mimetype": "text/x-python",
   "name": "python",
   "nbconvert_exporter": "python",
   "pygments_lexer": "ipython3",
   "version": "3.9.-1"
  }
 },
 "nbformat": 4,
 "nbformat_minor": 2
}

{
 "cells": [
  {
   "cell_type": "code",
   "execution_count": 1,
   "metadata": {},
   "outputs": [],
   "source": [
    "import jax\n",
    "from jax import jit\n",
    "from jax.sharding import Mesh\n",
    "from functools import partial\n",
    "\n",
    "# 假设使用 CPU 设备\n",
    "devices = jax.devices(\"cpu\")\n",
    "mesh = Mesh(devices, ('x',))\n"
   ]
  },
  {
   "cell_type": "code",
   "execution_count": 5,
   "metadata": {},
   "outputs": [
    {
     "name": "stdout",
     "output_type": "stream",
     "text": [
      "Sample rate fa: 5.76e+11, Cut off frequency fc: 1.25e+11, fa > 2fc: True\n",
      " wdm_transmitter complete, time cost(s):0.5835795402526855\n",
      " fiber_transmission complete, time cost(s):3.585237979888916\n",
      " wdm_receiver complete, time cost(s):0.07912397384643555\n"
     ]
    }
   ],
   "source": [
    "import torch\n",
    "import pkufiber.simulation as sml\n",
    "\n",
    "device = 'cpu'\n",
    "tx_data, tx_config = sml.wdm_transmitter(123, batch=10, M=16, Nbits=40000, sps=16, Nch=5, Nmodes=1, Rs=36, freqspace=50, Pch_dBm=0, Ai=1, Vpi=2, Vb=-2, Ntaps=4096, roll=0.1, pulse_type='rc', device=device)\n",
    "trans_data, fiber_config = sml.fiber_transmission(tx_data, seed=123, Ltotal=80, Lspan=80, hz=0.5, alpha=0.2, D=16, gamma=1.3, Fc=193.1e12, amp='edfa', NF=4.5, order=1, openPMD=False, Dpmd=3, Lcorr=0.1, device=device)\n",
    "rx_data, rx_config = sml.wdm_receiver(trans_data, seed=123, chid=0, rx_sps=2, FO=0, lw=0, phi_lo=0, Plo_dBm=10, method='frequency cut', device=device)"
   ]
  }
 ],
 "metadata": {
  "kernelspec": {
   "display_name": "fiber2024",
   "language": "python",
   "name": "python3"
  },
  "language_info": {
   "codemirror_mode": {
    "name": "ipython",
    "version": 3
   },
   "file_extension": ".py",
   "mimetype": "text/x-python",
   "name": "python",
   "nbconvert_exporter": "python",
   "pygments_lexer": "ipython3",
   "version": "3.9.22"
  }
 },
 "nbformat": 4,
 "nbformat_minor": 2
}
